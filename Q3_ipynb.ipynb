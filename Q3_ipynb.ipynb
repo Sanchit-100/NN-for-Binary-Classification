{
  "nbformat": 4,
  "nbformat_minor": 0,
  "metadata": {
    "colab": {
      "provenance": []
    },
    "kernelspec": {
      "name": "python3",
      "display_name": "Python 3"
    },
    "language_info": {
      "name": "python"
    }
  },
  "cells": [
    {
      "cell_type": "code",
      "execution_count": 17,
      "metadata": {
        "id": "i6MaNXQm1AK1"
      },
      "outputs": [],
      "source": [
        "import numpy as np\n",
        "from sklearn.model_selection import train_test_split\n",
        "import matplotlib.pyplot as plt"
      ]
    },
    {
      "cell_type": "code",
      "source": [
        "np.random.seed(42)\n",
        "cov=np.eye(2)\n",
        "X0 = np.random.multivariate_normal(mean=[-1, -1], cov=cov, size=10)\n",
        "y0 = np.zeros(10)\n",
        "X1 = np.random.multivariate_normal(mean=[1, 1], cov=cov, size=10)\n",
        "y1 = np.ones(10)"
      ],
      "metadata": {
        "id": "KESmlDMw1mJK"
      },
      "execution_count": 2,
      "outputs": []
    },
    {
      "cell_type": "code",
      "source": [
        "X = np.vstack([X0, X1])\n",
        "y = np.hstack([y0, y1])"
      ],
      "metadata": {
        "id": "M5jUJGTs1zkj"
      },
      "execution_count": 3,
      "outputs": []
    },
    {
      "cell_type": "code",
      "source": [
        "X_train, X_test, y_train, y_test = train_test_split(X, y, test_size=0.5, stratify=y, random_state=42)"
      ],
      "metadata": {
        "id": "SYiTwGxn144Y"
      },
      "execution_count": 4,
      "outputs": []
    },
    {
      "cell_type": "code",
      "source": [
        "print(\"Train X shape:\", X_train.shape)\n",
        "print(\"Test X shape:\", X_test.shape)"
      ],
      "metadata": {
        "colab": {
          "base_uri": "https://localhost:8080/"
        },
        "id": "RRs5Oll-1-Q6",
        "outputId": "48debb67-4d9b-4a20-aa4d-877ada51e895"
      },
      "execution_count": 5,
      "outputs": [
        {
          "output_type": "stream",
          "name": "stdout",
          "text": [
            "Train X shape: (10, 2)\n",
            "Test X shape: (10, 2)\n"
          ]
        }
      ]
    },
    {
      "cell_type": "code",
      "source": [
        "def sigmoid(z):\n",
        "    return 1 / (1 + np.exp(-z))\n",
        "\n",
        "def sigmoid_derivative(z):\n",
        "    s = sigmoid(z)\n",
        "    return s * (1 - s)"
      ],
      "metadata": {
        "id": "tQGBU0X52ehU"
      },
      "execution_count": 7,
      "outputs": []
    },
    {
      "cell_type": "code",
      "source": [
        "def mse(y_true, y_pred):\n",
        "    return np.mean((y_true - y_pred) ** 2)"
      ],
      "metadata": {
        "id": "ZCcrZFpk2h5x"
      },
      "execution_count": 8,
      "outputs": []
    },
    {
      "cell_type": "code",
      "source": [
        "def train_nn(X, y, lr=0.1, epochs=1000):\n",
        "    np.random.seed(42)\n",
        "    n_samples = X.shape[0]\n",
        "\n",
        "    # Initialize parameters\n",
        "    W1 = np.random.randn(2, 1)  # Input to hidden (2 -> 1)\n",
        "    b1 = np.random.randn(1)\n",
        "    W2 = np.random.randn(1, 1)  # Hidden to output (1 -> 1)\n",
        "    b2 = np.random.randn(1)\n",
        "\n",
        "    losses = []\n",
        "\n",
        "    for epoch in range(epochs):\n",
        "        # Forward pass\n",
        "        Z1 = X @ W1 + b1\n",
        "        A1 = sigmoid(Z1)\n",
        "        Z2 = A1 @ W2 + b2\n",
        "        y_pred = Z2.reshape(-1)\n",
        "\n",
        "        # Loss\n",
        "        loss = mse(y, y_pred)\n",
        "        losses.append(loss)\n",
        "\n",
        "        # Backpropagation\n",
        "        dZ2 = (y_pred - y).reshape(-1, 1)  # (N,1)\n",
        "        dW2 = A1.T @ dZ2 / n_samples\n",
        "        db2 = np.mean(dZ2)\n",
        "\n",
        "        dA1 = dZ2 @ W2.T  # (N,1)\n",
        "        dZ1 = dA1 * sigmoid_derivative(Z1)\n",
        "        dW1 = X.T @ dZ1 / n_samples\n",
        "        db1 = np.mean(dZ1)\n",
        "\n",
        "        # Gradient descent update\n",
        "        W2 -= lr * dW2\n",
        "        b2 -= lr * db2\n",
        "        W1 -= lr * dW1\n",
        "        b1 -= lr * db1\n",
        "\n",
        "    params = {\n",
        "        \"W1\": W1, \"b1\": b1,\n",
        "        \"W2\": W2, \"b2\": b2\n",
        "    }\n",
        "    return params, losses"
      ],
      "metadata": {
        "id": "ngzfajhG2ket"
      },
      "execution_count": 9,
      "outputs": []
    },
    {
      "cell_type": "code",
      "source": [
        "def predict_nn(X, params):\n",
        "  Z1 = X @ params[\"W1\"] + params[\"b1\"]\n",
        "  A1 = sigmoid(Z1)\n",
        "  Z2 = A1 @ params[\"W2\"] + params[\"b2\"]\n",
        "  return Z2.reshape(-1)"
      ],
      "metadata": {
        "id": "Ua2FHOhe3OT4"
      },
      "execution_count": 10,
      "outputs": []
    },
    {
      "cell_type": "code",
      "source": [
        "params, losses = train_nn(X_train, y_train, lr=0.1, epochs=1000)\n",
        "y_test_pred = predict_nn(X_test, params)\n",
        "test_mse = mse(y_test, y_test_pred)\n",
        "\n",
        "print(f\"Test MSE: {test_mse:.4f}\")"
      ],
      "metadata": {
        "colab": {
          "base_uri": "https://localhost:8080/"
        },
        "id": "0TCUp4Uh3cL5",
        "outputId": "407dc0d5-e60f-47cd-c837-d8252ff158a9"
      },
      "execution_count": 15,
      "outputs": [
        {
          "output_type": "stream",
          "name": "stdout",
          "text": [
            "Test MSE: 0.0812\n"
          ]
        }
      ]
    },
    {
      "cell_type": "code",
      "source": [
        "plt.plot(losses)\n",
        "plt.xlabel(\"Epochs\")\n",
        "plt.ylabel(\"MSE\")\n",
        "plt.title(\"Training Loss\")\n",
        "plt.show()"
      ],
      "metadata": {
        "colab": {
          "base_uri": "https://localhost:8080/",
          "height": 472
        },
        "id": "ptFheQEm3tE7",
        "outputId": "433a9b44-6be4-47a6-c17d-f55fd7366a13"
      },
      "execution_count": 18,
      "outputs": [
        {
          "output_type": "display_data",
          "data": {
            "text/plain": [
              "<Figure size 640x480 with 1 Axes>"
            ],
            "image/png": "[encoded data removed]"
          },
          "metadata": {}
        }
      ]
    }
  ]
}